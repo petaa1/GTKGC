{
 "cells": [
  {
   "cell_type": "markdown",
   "metadata": {},
   "source": [
    "## Testing Temporal Events\n",
    "\n",
    "To Run the os required to run code\n",
    "\n",
    "Open linux/ubuntu terminal and run `jupyter notebook`\n",
    "\n",
    "If this command doesnt exist, install the requirements: `pip install -U jupyter`"
   ]
  },
  {
   "cell_type": "code",
   "execution_count": 7,
   "metadata": {},
   "outputs": [
    {
     "name": "stdout",
     "output_type": "stream",
     "text": [
      "Requirement already satisfied: update in c:\\users\\peter\\miniconda3\\lib\\site-packages (0.0.1)\n",
      "Requirement already satisfied: style==1.1.0 in c:\\users\\peter\\miniconda3\\lib\\site-packages (from update) (1.1.0)\n"
     ]
    },
    {
     "name": "stderr",
     "output_type": "stream",
     "text": [
      "ERROR: Could not find a version that satisfies the requirement libaio-dev (from versions: none)\n",
      "ERROR: No matching distribution found for libaio-dev\n"
     ]
    }
   ],
   "source": [
    "! pip install update\n",
    "! pip install libaio-dev"
   ]
  },
  {
   "cell_type": "code",
   "execution_count": 6,
   "metadata": {},
   "outputs": [],
   "source": [
    "from dotenv import load_dotenv\n",
    "import os\n",
    "\n",
    "load_dotenv()\n",
    "\n",
    "api_key = os.getenv(\"API_KEY\")"
   ]
  },
  {
   "cell_type": "markdown",
   "metadata": {},
   "source": [
    "Extract text to be read for triple extraction"
   ]
  },
  {
   "cell_type": "code",
   "execution_count": 7,
   "metadata": {},
   "outputs": [],
   "source": [
    "from openai import OpenAI\n",
    "\n",
    "# models:\n",
    "#   - gpt-3.5-turbo\n",
    "#   - gpt-4\n",
    "#   - gpt-4-turbo\n",
    "def query(prompt, model='gpt-3.5-turbo', temperature=0):\n",
    "  client = OpenAI(api_key=api_key)\n",
    "\n",
    "  res = client.chat.completions.create(\n",
    "  model=model,\n",
    "  temperature=temperature,\n",
    "  messages=[\n",
    "      {\"role\": \"user\", \"content\": prompt}\n",
    "  ])\n",
    "\n",
    "  # print(prompt)\n",
    "  print('output is: ', res)\n",
    "  print()\n",
    "  print()\n",
    "\n",
    "  return res\n"
   ]
  },
  {
   "cell_type": "code",
   "execution_count": 11,
   "metadata": {},
   "outputs": [],
   "source": [
    "text = \"Elon Musk is a billionaire entrepreneur and CEO of SpaceX and Tesla. He is known for his ambitious projects and innovative ideas. Musk has been involved in various industries, including electric vehicles, space exploration, and renewable energy. He is also a proponent of artificial intelligence and has expressed concerns about its potential risks. Musk's companies have made significant advancements in their respective fields, and he continues to push the boundaries of technology and innovation.\""
   ]
  },
  {
   "cell_type": "code",
   "execution_count": 12,
   "metadata": {},
   "outputs": [
    {
     "name": "stdout",
     "output_type": "stream",
     "text": [
      "output is:  ChatCompletion(id='chatcmpl-9qdwx7pg5obULxl2lRVinfPxtSD6V', choices=[Choice(finish_reason='stop', index=0, logprobs=None, message=ChatCompletionMessage(content=\"<EVENT>Elon Musk</EVENT> is a billionaire entrepreneur and CEO of <EVENT>SpaceX</EVENT> and <EVENT>Tesla</EVENT>. He is known for his ambitious projects and innovative ideas. Musk has been involved in various industries, including electric vehicles, space exploration, and renewable energy. He is also a proponent of artificial intelligence and has expressed concerns about its potential risks. Musk's companies have made significant advancements in their respective fields, and he continues to push the boundaries of technology and innovation.\", role='assistant', function_call=None, tool_calls=None))], created=1722333651, model='gpt-3.5-turbo-0125', object='chat.completion', system_fingerprint=None, usage=CompletionUsage(completion_tokens=105, prompt_tokens=135, total_tokens=240))\n",
      "\n",
      "\n"
     ]
    }
   ],
   "source": [
    "# Define the TimeML template\n",
    "time_ml_template = (\n",
    "    \"The following text contains various events and temporal expressions. \"\n",
    "    \"Your task is to annotate these events and temporal expressions with TimeML tags. \"\n",
    "    \"Follow the TimeML annotation guidelines. \\n\"\n",
    "    \"---------------------\\n\"\n",
    "    f\"Text: \\n{text}\\n\"\n",
    "    \"TimeML Annotation:\\n\"\n",
    ")\n",
    "\n",
    "# Query for TimeML annotations\n",
    "time_ml_annotation = query(time_ml_template).choices[0].message.content.strip()"
   ]
  },
  {
   "cell_type": "code",
   "execution_count": 17,
   "metadata": {},
   "outputs": [
    {
     "name": "stdout",
     "output_type": "stream",
     "text": [
      "<EVENT>Elon Musk</EVENT> is a billionaire entrepreneur and CEO of <EVENT>SpaceX</EVENT> and <EVENT>Tesla</EVENT>. He is known for his ambitious projects and innovative ideas. Musk has been involved in various industries, including electric vehicles, space exploration, and renewable energy. He is also a proponent of artificial intelligence and has expressed concerns about its potential risks. Musk's companies have made significant advancements in their respective fields, and he continues to push the boundaries of technology and innovation.\n"
     ]
    }
   ],
   "source": [
    "print(time_ml_annotation)"
   ]
  },
  {
   "cell_type": "code",
   "execution_count": 7,
   "metadata": {},
   "outputs": [
    {
     "name": "stdout",
     "output_type": "stream",
     "text": [
      "output is:  ChatCompletion(id='chatcmpl-9EZFyuzMeJuTklhOMopzugQEr8frU', choices=[Choice(finish_reason='stop', index=0, logprobs=None, message=ChatCompletionMessage(content='1. born\\n2. immigrating\\n3. matriculated\\n4. transferred\\n5. received\\n6. moved\\n7. dropped out\\n8. co-founded\\n9. acquired\\n10. proposed\\n11. co-founded\\n12. founded\\n13. acquired\\n14. merged\\n15. acquired\\n16. founded\\n17. expressed\\n18. criticized\\n19. sued\\n20. settled\\n21. stepped down\\n22. born\\n23. divorced\\n24. regretted\\n25. became\\n26. beaten\\n27. hospitalized\\n28. developed\\n29. sold\\n30. attended\\n31. graduated\\n32. applied\\n33. immigrate\\n34. connected\\n35. worked\\n36. entered\\n37. transferred\\n38. earned\\n39. awarded\\n40. hosted\\n41. wrote\\n42. held\\n43. accepted\\n44. decided\\n45. founded\\n46. became\\n47. attempted\\n48. failed\\n49. succeeded\\n50. received\\n51. launched\\n52. docked\\n53. landed\\n54. achieved\\n55. launched\\n56. began\\n57. provided\\n58. stated\\n59. sent\\n60. stated\\n61. met\\n62. sued\\n63. financed\\n64. played\\n65. ousted\\n66. assumed\\n67. settled\\n68. designated\\n69. led\\n70. began\\n71. launched\\n72. released\\n73. unveiled\\n74. constructed\\n75. rose\\n76. entered\\n77. reached\\n78. proposed\\n79. sold\\n80. supported\\n81. sold\\n82. reported\\n83. asked\\n84. denied\\n85. asked\\n86. provided\\n87. denied\\n88. founded\\n89. promoted\\n90. started\\n91. operated\\n92. acquired\\n93. merged\\n94. acquired\\n95. filed\\n96. reacted\\n97. prevented\\n98. showed\\n99. provided\\n100. co-founded\\n101. announced\\n102. faced\\n103. filed\\n104. settled\\n105. prevented\\n106. showed\\n107. provided\\n108. founded\\n109. aims\\n110. integrate\\n111. creating\\n112. hopes\\n113. develop\\n114. announced\\n115. listed\\n116. rankled\\n117. described\\n118. criticized\\n119. revealed\\n120. announced\\n121. conducted\\n122. released\\n123. played\\n124. led\\n125. alleged\\n126. complained\\n127. launched', role='assistant', function_call=None, tool_calls=None))], created=1713259146, model='gpt-3.5-turbo-0125', object='chat.completion', system_fingerprint='fp_c2295e73ad', usage=CompletionUsage(completion_tokens=519, prompt_tokens=5096, total_tokens=5615))\n",
      "\n",
      "\n"
     ]
    }
   ],
   "source": [
    "# Define the TimeML template\n",
    "time_ml_template = (\n",
    "    \"The following text contains various events and temporal expressions. \"\n",
    "    \"Your task is to annotate these events and temporal expressions with TimeML tags. \"\n",
    "    \"Follow the TimeML annotation guidelines. \\n\"\n",
    "    \"---------------------\\n\"\n",
    "    \"Example:\\n\"\n",
    "    \"H. Marshall Schwarz was <EVENT eid='e1' class='OCCURRENCE'>named</EVENT> chairman and chief executive officer of U.S. Trust Corp., a private-banking firm with assets under management of about $17 billion.\\n\"\n",
    "    \"---------------------\\n\"\n",
    "    f\"Text: \\n{text}\\n\"\n",
    "    \"TimeML Annotation:\\n\"\n",
    "    \"Give me the list of words such as 'named' that are temporal expressions or events.\"\n",
    ")\n",
    "\n",
    "# Query for TimeML annotations\n",
    "test_a = query(time_ml_template).choices[0].message.content.strip()"
   ]
  },
  {
   "cell_type": "code",
   "execution_count": 10,
   "metadata": {},
   "outputs": [
    {
     "name": "stdout",
     "output_type": "stream",
     "text": [
      "output is:  ChatCompletion(id='chatcmpl-9EZLTZHHXlHfU7gM6kOkWHH4w7adl', choices=[Choice(finish_reason='stop', index=0, logprobs=None, message=ChatCompletionMessage(content=\"Elon Reeve Musk was born on June 28, 1971. He is the founder, chairman, CEO, and CTO of SpaceX; angel investor, CEO, product architect, and former chairman of Tesla, Inc.; owner, executive chairman, and CTO of X Corp.; founder of the Boring Company and xAI; co-founder of Neuralink and OpenAI; and president of the Musk Foundation. He is one of the wealthiest people in the world, with an estimated net worth of US$190 billion as of March 2024. \\n\\nIn 1995, he moved to California to attend Stanford University but dropped out after two days and co-founded online city guide software company Zip2. The startup was acquired by Compaq for $307 million in 1999. In 2002, eBay acquired PayPal for $1.5 billion, and that same year, Musk founded SpaceX with $100 million. In 2004, he became an early investor in Tesla Motors, Inc. In 2013, he proposed a hyperloop high-speed vactrain transportation system. In 2015, he co-founded OpenAI. In 2022, he acquired Twitter for $44 billion. In March 2023, he founded xAI, an artificial intelligence company.\\n\\nMusk has expressed views that have made him a polarizing figure. He has been criticized for making unscientific and misleading statements, including COVID-19 misinformation and antisemitic conspiracy theories. In 2018, the U.S. Securities and Exchange Commission (SEC) sued him, alleging that he had falsely announced that he had secured funding for a private takeover of Tesla. \\n\\nMusk was born in Pretoria, South Africa's administrative capital. He is of British and Pennsylvania Dutch ancestry. His mother, Maye Musk, is a model and dietitian born in Saskatchewan, Canada. His father, Errol Musk, is a South African electromechanical engineer, pilot, sailor, consultant, emerald dealer, and property developer. Elon has a younger brother, Kimbal, and a younger sister, Tosca. \\n\\nMusk attended various schools and universities, including Waterkloof House Preparatory School, Bryanston High School, Pretoria Boys High School, the University of Pretoria, Queen's University, and the University of Pennsylvania. He held internships in Silicon Valley and founded several successful companies. \\n\\nIn 2002, Musk founded SpaceX and became the company's CEO and Chief Engineer. SpaceX has achieved several milestones in space exploration, including launching the Falcon 1 rocket and developing the Falcon 9 and Falcon Heavy rockets. In 2020, SpaceX launched its first crewed flight, becoming the first private company to place astronauts into orbit. \\n\\nIn 2016, Musk co-founded Neuralink, a neurotechnology startup company. Neuralink aims to integrate the human brain with artificial intelligence by creating devices that are embedded in the brain. The company also hopes to develop devices to treat neurological conditions. \\n\\nMusk has been involved in various controversies, including legal battles with the SEC and criticism for his statements and actions. Despite this, he remains a prominent figure in the technology and business world.\", role='assistant', function_call=None, tool_calls=None))], created=1713259487, model='gpt-3.5-turbo-0125', object='chat.completion', system_fingerprint='fp_c2295e73ad', usage=CompletionUsage(completion_tokens=648, prompt_tokens=5287, total_tokens=5935))\n",
      "\n",
      "\n"
     ]
    }
   ],
   "source": [
    "# Define the TimeML template including provided annotations\n",
    "time_ml_template = (\n",
    "    \"The following text contains various events and temporal expressions. \"\n",
    "    \"Your task is to annotate these events and temporal expressions with TimeML tags. \"\n",
    "    \"Follow the TimeML annotation guidelines provided below. \\n\"\n",
    "    \"---------------------\\n\"\n",
    "    \"<?xml version=\\\"1.0\\\" ?>\\n\"\n",
    "    \"<TimeML xmlns:xsi=\\\"http://www.w3.org/2001/XMLSchema-instance\\\" xsi:noNamespaceSchemaLocation=\\\"http://timeml.org/timeMLdocs/TimeML_1.2.1.xsd\\\">\\n\"\n",
    "    \"<EXTRAINFO>\\n\"\n",
    "    \"Provide any additional information here\\n\"\n",
    "    \"</EXTRAINFO>\\n\"\n",
    "    \"<TEXTO>\\n\"\n",
    "    \"annotated text goes here - an example: 'H. Marshall Schwarz was <EVENT eid='e1' class='OCCURRENCE'>named</EVENT> chairman'\\n\"\n",
    "    \"</TEXTO>\\n\"\n",
    "    \"{Your provided TimeML annotations go here}\\n\"\n",
    "    \"</TimeML>\"\n",
    "    \"Annotate the following text using the TimeML annotations by detecting the events and temporal expressions. \\n\"\n",
    "    \"{Your text goes here}\\n\"\n",
    ")\n",
    "\n",
    "# Define the provided TimeML annotations\n",
    "provided_time_ml_annotations = \"\"\"\\\n",
    "These are some examples of TimeML annotations that you might have received from the annotators.\n",
    "<MAKEINSTANCE eventID=\"e1\" eiid=\"ei2408\" tense=\"PAST\" aspect=\"NONE\" polarity=\"POS\" pos=\"VERB\" />\n",
    "<MAKEINSTANCE eventID=\"e3\" eiid=\"ei2409\" tense=\"FUTURE\" aspect=\"NONE\" polarity=\"POS\" pos=\"VERB\" />\n",
    "<MAKEINSTANCE eventID=\"e4\" eiid=\"ei2410\" tense=\"PRESENT\" aspect=\"NONE\" polarity=\"POS\" pos=\"VERB\" />\n",
    "{Add more provided TimeML annotations here}\n",
    "\"\"\"\n",
    "\n",
    "# Replace placeholders in the template with actual text and annotations\n",
    "time_ml_template = time_ml_template.replace(\"{Your text goes here}\", text)\n",
    "time_ml_template = time_ml_template.replace(\"{Your provided TimeML annotations go here}\", provided_time_ml_annotations)\n",
    "\n",
    "# Query for TimeML annotations\n",
    "time_ml_annotation = query(time_ml_template).choices[0].message.content.strip()\n",
    "\n",
    "\n",
    "with open('time_ml_annotation.xml', 'w') as file:\n",
    "    file.write(time_ml_annotation)"
   ]
  },
  {
   "cell_type": "code",
   "execution_count": 6,
   "metadata": {},
   "outputs": [
    {
     "name": "stdout",
     "output_type": "stream",
     "text": [
      "output is:  ChatCompletion(id='chatcmpl-9EfKDYAm67GdL31KT4WCf0tEgfC5u', choices=[Choice(finish_reason='stop', index=0, logprobs=None, message=ChatCompletionMessage(content='ENTITY TYPE ID: EVENT\\nEVENT-1: Elon Reeve Musk is born on June 28, 1971\\nEVENT-2: Elon Musk founds SpaceX in October 2002\\nEVENT-3: Elon Musk becomes CEO of Tesla, Inc. in 2008\\nEVENT-4: Elon Musk co-founds Neuralink in 2016\\nEVENT-5: Elon Musk acquires Twitter in 2022\\n\\nENTITY TYPE ID: TIMEX3\\nTIMEX3-1: June 28, 1971\\nTIMEX3-2: March 2024\\nTIMEX3-3: 1995\\nTIMEX3-4: 1999\\nTIMEX3-5: 2002\\nTIMEX3-6: 2004\\nTIMEX3-7: 2016\\nTIMEX3-8: 2022\\n\\nENTITY TYPE ID: TLINK\\nTLINK-1: EVENT-1 is BEFORE TIMEX3-1\\nTLINK-2: EVENT-2 is AFTER TIMEX3-5\\nTLINK-3: EVENT-3 is INCLUES TIMEX3-6\\nTLINK-4: EVENT-4 is AFTER TIMEX3-7\\nTLINK-5: EVENT-5 is AFTER TIMEX3-8', role='assistant', function_call=None, tool_calls=None))], created=1713282473, model='gpt-3.5-turbo-0125', object='chat.completion', system_fingerprint='fp_c2295e73ad', usage=CompletionUsage(completion_tokens=269, prompt_tokens=5249, total_tokens=5518))\n",
      "\n",
      "\n",
      "\n"
     ]
    }
   ],
   "source": [
    "template = (\n",
    "    \"Please provide the corresponding TimeML tag for each of the following entities: events, temporal expressions, and temporal relations. \"\n",
    "    \"The output should be in the following format: \\n\"\n",
    "    \"ENTITY TYPE ID: Entity\\n\"\n",
    "    \"Where ENTITY TYPE can be one of the following: event (EVENT), time expression (TIMEX3), or temporal relation (TLINK).\\n\"\n",
    "    \"\\n\"\n",
    "    \"EVENT tag represents relevant events or states in the patient’s clinical timeline, such as “follow-up” or “admission”. It includes a “type” attribute to specify the event type and “modality” and “polarity” attributes to indicate the certainty and valuation of the event.\\n\"\n",
    "    \"TIMEX3 tag is used for temporal expressions, including dates, durations, times, and frequencies, such as “March 21, 2021” or “3 hours”. TIMEX3 tags’ additional attributes are “val”, that holds the normalized value of the time expression and “mod”, that holds the time modifier value.\\n\"\n",
    "    \"TLINK tag encodes three types of relations: overlap, before and after. TLINKs relate each event to the document’s admission or discharge date (“Section Time TLINK”). In addition, TLINKs connect EVENTS and TIMEX3s within the same sentence or across multiple sentences (“Non-Section Time TLINKs”).\\n\"\n",
    "    \"\\n\"\n",
    "    \"This is the text to be annotated: \\n\"\n",
    "    f\"{text}\"\n",
    ")\n",
    "\n",
    "res = query(template).choices[0].message.content.strip()"
   ]
  },
  {
   "cell_type": "code",
   "execution_count": 5,
   "metadata": {},
   "outputs": [
    {
     "name": "stdout",
     "output_type": "stream",
     "text": [
      "output is:  ChatCompletion(id='chatcmpl-9EfaETa27sb3v2tVkBhTomEfQyNFF', choices=[Choice(finish_reason='stop', index=0, logprobs=None, message=ChatCompletionMessage(content='EVENT ID: founder\\nEVENT ID: chairman\\nEVENT ID: CEO\\nEVENT ID: CTO\\nEVENT ID: angel investor\\nEVENT ID: product architect\\nEVENT ID: former chairman\\nEVENT ID: owner\\nEVENT ID: executive chairman\\nEVENT ID: co-founder\\nEVENT ID: president\\nEVENT ID: briefly attended\\nEVENT ID: acquiring citizenship\\nEVENT ID: matriculated\\nEVENT ID: transferred\\nEVENT ID: received\\nEVENT ID: moved\\nEVENT ID: attend\\nEVENT ID: dropped out\\nEVENT ID: co-founded\\nEVENT ID: acquired\\nEVENT ID: founded\\nEVENT ID: became\\nEVENT ID: helped create\\nEVENT ID: proposed\\nEVENT ID: acquired\\nEVENT ID: merged\\nEVENT ID: rebranded\\nEVENT ID: founded\\nEVENT ID: criticized\\nEVENT ID: making\\nEVENT ID: marked\\nEVENT ID: changes\\nEVENT ID: sued\\nEVENT ID: stepped down\\nEVENT ID: paid\\nEVENT ID: was born\\nEVENT ID: is\\nEVENT ID: was elected\\nEVENT ID: has said\\nEVENT ID: chose\\nEVENT ID: regretted\\nEVENT ID: became estranged\\nEVENT ID: was thrown\\nEVENT ID: was hospitalized\\nEVENT ID: developed\\nEVENT ID: sold\\nEVENT ID: attended\\nEVENT ID: graduated\\nEVENT ID: applied\\nEVENT ID: attended\\nEVENT ID: arrived\\nEVENT ID: connected\\nEVENT ID: worked\\nEVENT ID: entered\\nEVENT ID: transferred\\nEVENT ID: earned\\nEVENT ID: hosted\\nEVENT ID: wrote\\nEVENT ID: held\\nEVENT ID: accepted\\nEVENT ID: decided\\nEVENT ID: founded\\nEVENT ID: financed\\nEVENT ID: developed\\nEVENT ID: marketed\\nEVENT ID: worked\\nEVENT ID: obtained\\nEVENT ID: persuaded\\nEVENT ID: thwarted\\nEVENT ID: acquired\\nEVENT ID: received\\nEVENT ID: co-founded\\nEVENT ID: founded\\nEVENT ID: regarded\\nEVENT ID: replaced\\nEVENT ID: merged\\nEVENT ID: returned\\nEVENT ID: caused\\nEVENT ID: resigned\\nEVENT ID: ousted\\nEVENT ID: renamed\\nEVENT ID: acquired\\nEVENT ID: received\\nEVENT ID: purchased\\nEVENT ID: discussed\\nEVENT ID: traveled\\nEVENT ID: met\\nEVENT ID: returned\\nEVENT ID: returned\\nEVENT ID: offered\\nEVENT ID: rejected\\nEVENT ID: decided\\nEVENT ID: founded\\nEVENT ID: attempted\\nEVENT ID: failed\\nEVENT ID: awarded\\nEVENT ID: succeeded\\nEVENT ID: received\\nEVENT ID: docked\\nEVENT ID: landed\\nEVENT ID: achieved\\nEVENT ID: launched\\nEVENT ID: developing\\nEVENT ID: launched\\nEVENT ID: launched\\nEVENT ID: estimated\\nEVENT ID: sent\\nEVENT ID: stated\\nEVENT ID: asked\\nEVENT ID: denied\\nEVENT ID: incorporated\\nEVENT ID: financed\\nEVENT ID: led\\nEVENT ID: joined\\nEVENT ID: took\\nEVENT ID: ousted\\nEVENT ID: assumed\\nEVENT ID: designated\\nEVENT ID: began\\nEVENT ID: launched\\nEVENT ID: launched\\nEVENT ID: released\\nEVENT ID: launched\\nEVENT ID: unveiled\\nEVENT ID: constructed\\nEVENT ID: rose\\nEVENT ID: entered\\nEVENT ID: reached\\nEVENT ID: proposed\\nEVENT ID: sold\\nEVENT ID: reached\\nEVENT ID: reported\\nEVENT ID: unveiled\\nEVENT ID: met\\nEVENT ID: sued\\nEVENT ID: settled\\nEVENT ID: stated\\nEVENT ID: stated\\nEVENT ID: filed\\nEVENT ID: settled\\nEVENT ID: prevented\\nEVENT ID: concluded\\nEVENT ID: provided\\nEVENT ID: founded\\nEVENT ID: was\\nEVENT ID: promoted\\nEVENT ID: started\\nEVENT ID: completed\\nEVENT ID: operated\\nEVENT ID: acquired\\nEVENT ID: resulted\\nEVENT ID: filed\\nEVENT ID: settled\\nEVENT ID: ruled\\nEVENT ID: co-founded\\nEVENT ID: aims\\nEVENT ID: hopes\\nEVENT ID: announced\\nEVENT ID: described\\nEVENT ID: revealed\\nEVENT ID: announced\\nEVENT ID: conducted\\nEVENT ID: released\\nEVENT ID: led\\nEVENT ID: launched\\n\\nTIMEX3 ID: June 28, 1971\\nTIMEX3 ID: March 2024\\nTIMEX3 ID: US$190 billion\\nTIMEX3 ID: $195 billion\\nTIMEX3 ID: 18\\nTIMEX3 ID: Two years later\\nTIMEX3 ID: 1995\\nTIMEX3 ID: two days\\nTIMEX3 ID: 1999\\nTIMEX3 ID: October 2002\\nTIMEX3 ID: $1.5 billion\\nTIMEX3 ID: $100 million\\nTIMEX3 ID: 2004\\nTIMEX3 ID: 2006\\nTIMEX3 ID: 2013\\nTIMEX3 ID: 2015\\nTIMEX3 ID: 2022\\nTIMEX3 ID: $44 billion\\nTIMEX3 ID: March 2023\\nTIMEX3 ID: 2018\\nTIMEX3 ID: $20 million\\nTIMEX3 ID: June 28, 1971\\nTIMEX3 ID: 1980\\nTIMEX3 ID: 2023\\nTIMEX3 ID: age ten\\nTIMEX3 ID: age twelve\\nTIMEX3 ID: June 1989\\nTIMEX3 ID: 1990\\nTIMEX3 ID: Two years later\\nTIMEX3 ID: 1994\\nTIMEX3 ID: 1995\\nTIMEX3 ID: 1997\\nTIMEX3 ID: February 1999\\nTIMEX3 ID: March 1999\\nTIMEX3 ID: 2000\\nTIMEX3 ID: 2001\\nTIMEX3 ID: 2002\\nTIMEX3 ID: 2017\\nTIMEX3 ID: 2022\\nTIMEX3 ID: early 2001\\nTIMEX3 ID: October 2001\\nTIMEX3 ID: February 2002\\nTIMEX3 ID: May 2002\\nTIMEX3 ID: 2006\\nTIMEX3 ID: 2008\\nTIMEX3 ID: 2012\\nTIMEX3 ID: 2015\\nTIMEX3 ID: 2018\\nTIMEX3 ID: 2019\\nTIMEX3 ID: 2020\\nTIMEX3 ID: February 2018\\nTIMEX3 ID: May 2019\\nTIMEX3 ID: $10 billion\\nTIMEX3 ID: October 2022\\nTIMEX3 ID: $80 million\\nTIMEX3 ID: $400 million\\nTIMEX3 ID: July 2003\\nTIMEX3 ID: February 2004\\nTIMEX3 ID: 2007\\nTIMEX3 ID: 2008\\nTIMEX3 ID: 2009\\nTIMEX3 ID: 2010\\nTIMEX3 ID: 2019\\nTIMEX3 ID: 2021\\nTIMEX3 ID: $1 trillion\\nTIMEX3 ID: November 2021\\nTIMEX3 ID: $6.9 billion\\nTIMEX3 ID: $16.4 billion\\nTIMEX3 ID: February 2022\\nTIMEX3 ID: June 20, 2023\\nTIMEX3 ID: 2018\\nTIMEX3 ID: 2019\\nTIMEX3 ID: 2020\\nTIMEX3 ID: 2006\\nTIMEX3 ID: 2013\\nTIMEX3 ID: 2014\\nTIMEX3 ID: 2017\\nTIMEX3 ID: 2016\\nTIMEX3 ID: 2020\\nTIMEX3 ID: 2016\\nTIMEX3 ID: 2019\\nTIMEX3 ID: October 2019\\nTIMEX3 ID: 2020\\nTIMEX3 ID: 2022\\nTIMEX3 ID: 2021\\nTIMEX3 ID: 2022\\n\\nTLINK ID: Section Time TLINK\\nTLINK ID: Non-Section Time TLINK', role='assistant', function_call=None, tool_calls=None))], created=1713283466, model='gpt-4-turbo-2024-04-09', object='chat.completion', system_fingerprint='fp_76f018034d', usage=CompletionUsage(completion_tokens=1684, prompt_tokens=5249, total_tokens=6933))\n",
      "\n",
      "\n"
     ]
    }
   ],
   "source": [
    "template = (\n",
    "    \"Please provide the corresponding TimeML tag for each of the following entities: events, temporal expressions, and temporal relations. \"\n",
    "    \"The output should be in the following format: \\n\"\n",
    "    \"ENTITY TYPE ID: Entity\\n\"\n",
    "    \"Where ENTITY TYPE can be one of the following: event (EVENT), time expression (TIMEX3), or temporal relation (TLINK).\\n\"\n",
    "    \"\\n\"\n",
    "    \"EVENT tag represents relevant events or states in the patient’s clinical timeline, such as “follow-up” or “admission”. It includes a “type” attribute to specify the event type and “modality” and “polarity” attributes to indicate the certainty and valuation of the event.\\n\"\n",
    "    \"TIMEX3 tag is used for temporal expressions, including dates, durations, times, and frequencies, such as “March 21, 2021” or “3 hours”. TIMEX3 tags’ additional attributes are “val”, that holds the normalized value of the time expression and “mod”, that holds the time modifier value.\\n\"\n",
    "    \"TLINK tag encodes three types of relations: overlap, before and after. TLINKs relate each event to the document’s admission or discharge date (“Section Time TLINK”). In addition, TLINKs connect EVENTS and TIMEX3s within the same sentence or across multiple sentences (“Non-Section Time TLINKs”).\\n\"\n",
    "    \"\\n\"\n",
    "    \"This is the text to be annotated: \\n\"\n",
    "    f\"{text}\"\n",
    ")\n",
    "\n",
    "res = query(template, model=\"gpt-4-turbo\").choices[0].message.content.strip()"
   ]
  }
 ],
 "metadata": {
  "kernelspec": {
   "display_name": "Python 3 (ipykernel)",
   "language": "python",
   "name": "python3"
  },
  "language_info": {
   "codemirror_mode": {
    "name": "ipython",
    "version": 3
   },
   "file_extension": ".py",
   "mimetype": "text/x-python",
   "name": "python",
   "nbconvert_exporter": "python",
   "pygments_lexer": "ipython3",
   "version": "3.12.2"
  }
 },
 "nbformat": 4,
 "nbformat_minor": 2
}
